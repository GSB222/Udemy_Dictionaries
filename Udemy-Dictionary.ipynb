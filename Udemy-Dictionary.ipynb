{
 "cells": [
  {
   "cell_type": "code",
   "execution_count": 7,
   "id": "9b0272b0",
   "metadata": {},
   "outputs": [],
   "source": [
    "# A dictionary is a mutabable, unordered collecgtion of key-value pairs.\n",
    "# A key is a unique identifier for a value. \n",
    "# A value corresponds to the key. The values can contain duplicates. \n",
    "# Use a dictionary for association (i.e., to connect/map two values together). Use a list for order."
   ]
  },
  {
   "cell_type": "code",
   "execution_count": 16,
   "id": "e849a3e4",
   "metadata": {},
   "outputs": [],
   "source": [
    "# Create an empty dictionary and assign it to the variable empty.\n",
    "empty = {}\n",
    "\n",
    "# Create a dictionary with three key-value pairs. \n",
    "# The keys should be strings and the values should be integer values. \n",
    "# Assign the dictionary to a my_dict variable.\n",
    "my_dict = {\"apples\": 2, \"oranges\": 3,\"melon\":5}"
   ]
  },
  {
   "cell_type": "code",
   "execution_count": 17,
   "id": "177e90b5",
   "metadata": {},
   "outputs": [],
   "source": [
    "menu = { \"apples\": 2.99, \"oranges\": 3.99, \"melon\": 5.99}"
   ]
  },
  {
   "cell_type": "markdown",
   "id": "d40ed554",
   "metadata": {},
   "source": [
    "# this isn't showing the menu when run\n",
    "menu"
   ]
  },
  {
   "cell_type": "code",
   "execution_count": 5,
   "id": "59ae6f13",
   "metadata": {},
   "outputs": [
    {
     "data": {
      "text/plain": [
       "3"
      ]
     },
     "execution_count": 5,
     "metadata": {},
     "output_type": "execute_result"
    }
   ],
   "source": [
    "len(menu)"
   ]
  },
  {
   "cell_type": "code",
   "execution_count": 15,
   "id": "4fffa172",
   "metadata": {},
   "outputs": [
    {
     "data": {
      "text/plain": [
       "2.99"
      ]
     },
     "execution_count": 15,
     "metadata": {},
     "output_type": "execute_result"
    }
   ],
   "source": [
    "menu[\"apples\"]"
   ]
  },
  {
   "cell_type": "code",
   "execution_count": 20,
   "id": "de16111f",
   "metadata": {},
   "outputs": [],
   "source": [
    "menu[\"kiwi\"] = 1.99"
   ]
  },
  {
   "cell_type": "code",
   "execution_count": 21,
   "id": "57e1e76b",
   "metadata": {},
   "outputs": [
    {
     "data": {
      "text/plain": [
       "{'apples': 2.99, 'oranges': 3.99, 'melon': 5.99, 'kiwi': 1.99}"
      ]
     },
     "execution_count": 21,
     "metadata": {},
     "output_type": "execute_result"
    }
   ],
   "source": [
    "menu"
   ]
  },
  {
   "cell_type": "code",
   "execution_count": 23,
   "id": "2baabb24",
   "metadata": {},
   "outputs": [],
   "source": [
    "# change the price of oranges with = $ will change menu list.\n",
    "menu[\"oranges\"] = 6.99"
   ]
  },
  {
   "cell_type": "code",
   "execution_count": 24,
   "id": "8c568704",
   "metadata": {},
   "outputs": [
    {
     "data": {
      "text/plain": [
       "{'apples': 2.99, 'oranges': 6.99, 'melon': 5.99, 'kiwi': 1.99}"
      ]
     },
     "execution_count": 24,
     "metadata": {},
     "output_type": "execute_result"
    }
   ],
   "source": [
    "menu"
   ]
  },
  {
   "cell_type": "code",
   "execution_count": 26,
   "id": "3e4aa632",
   "metadata": {},
   "outputs": [
    {
     "data": {
      "text/plain": [
       "5.99"
      ]
     },
     "execution_count": 26,
     "metadata": {},
     "output_type": "execute_result"
    }
   ],
   "source": [
    "# pop removes melon from menu list.\n",
    "menu.pop(\"melon\")"
   ]
  },
  {
   "cell_type": "code",
   "execution_count": 27,
   "id": "37d6e7e7",
   "metadata": {},
   "outputs": [
    {
     "data": {
      "text/plain": [
       "{'apples': 2.99, 'oranges': 6.99, 'kiwi': 1.99}"
      ]
     },
     "execution_count": 27,
     "metadata": {},
     "output_type": "execute_result"
    }
   ],
   "source": [
    "menu"
   ]
  },
  {
   "cell_type": "code",
   "execution_count": 29,
   "id": "521738cf",
   "metadata": {},
   "outputs": [
    {
     "data": {
      "text/plain": [
       "True"
      ]
     },
     "execution_count": 29,
     "metadata": {},
     "output_type": "execute_result"
    }
   ],
   "source": [
    "# check if value is in list. \n",
    "\"apples\" in menu"
   ]
  },
  {
   "cell_type": "code",
   "execution_count": 30,
   "id": "380fb131",
   "metadata": {},
   "outputs": [
    {
     "data": {
      "text/plain": [
       "False"
      ]
     },
     "execution_count": 30,
     "metadata": {},
     "output_type": "execute_result"
    }
   ],
   "source": [
    "\"mangos\" in menu"
   ]
  },
  {
   "cell_type": "code",
   "execution_count": 31,
   "id": "81178f10",
   "metadata": {},
   "outputs": [
    {
     "data": {
      "text/plain": [
       "False"
      ]
     },
     "execution_count": 31,
     "metadata": {},
     "output_type": "execute_result"
    }
   ],
   "source": [
    "\"20.99\" in menu"
   ]
  },
  {
   "cell_type": "code",
   "execution_count": 32,
   "id": "f18535b1",
   "metadata": {},
   "outputs": [
    {
     "data": {
      "text/plain": [
       "dict_values([2.99, 6.99, 1.99])"
      ]
     },
     "execution_count": 32,
     "metadata": {},
     "output_type": "execute_result"
    }
   ],
   "source": [
    "# value summons numeric values\n",
    "menu.values()"
   ]
  },
  {
   "cell_type": "code",
   "execution_count": 33,
   "id": "51806922",
   "metadata": {},
   "outputs": [
    {
     "data": {
      "text/plain": [
       "False"
      ]
     },
     "execution_count": 33,
     "metadata": {},
     "output_type": "execute_result"
    }
   ],
   "source": [
    "5.99 in menu.values()"
   ]
  },
  {
   "cell_type": "code",
   "execution_count": 34,
   "id": "f147e8b8",
   "metadata": {},
   "outputs": [
    {
     "data": {
      "text/plain": [
       "True"
      ]
     },
     "execution_count": 34,
     "metadata": {},
     "output_type": "execute_result"
    }
   ],
   "source": [
    "\"steak\" not in menu"
   ]
  },
  {
   "cell_type": "code",
   "execution_count": 35,
   "id": "8b20e500",
   "metadata": {},
   "outputs": [
    {
     "data": {
      "text/plain": [
       "True"
      ]
     },
     "execution_count": 35,
     "metadata": {},
     "output_type": "execute_result"
    }
   ],
   "source": [
    "\"49.99\" not in menu"
   ]
  },
  {
   "cell_type": "code",
   "execution_count": null,
   "id": "878cfd05",
   "metadata": {},
   "outputs": [],
   "source": [
    "# dictionary is used for association or mapping. Can be called \"Map\". Connecting keys and values. \n",
    "# Keys need to be unique. Values can contain duplicates. \n",
    "# Whenever you need order reach for a list"
   ]
  }
 ],
 "metadata": {
  "kernelspec": {
   "display_name": "Python 3 (ipykernel)",
   "language": "python",
   "name": "python3"
  },
  "language_info": {
   "codemirror_mode": {
    "name": "ipython",
    "version": 3
   },
   "file_extension": ".py",
   "mimetype": "text/x-python",
   "name": "python",
   "nbconvert_exporter": "python",
   "pygments_lexer": "ipython3",
   "version": "3.11.5"
  }
 },
 "nbformat": 4,
 "nbformat_minor": 5
}
